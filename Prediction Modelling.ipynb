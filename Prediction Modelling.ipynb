{
 "cells": [
  {
   "cell_type": "code",
   "execution_count": 2,
   "id": "c446f15f-68b5-4583-b6a9-bfb4edb3b7c0",
   "metadata": {},
   "outputs": [],
   "source": [
    "import pandas as pd\n",
    "import warnings \n",
    "warnings.filterwarnings('ignore') "
   ]
  },
  {
   "cell_type": "markdown",
   "id": "46a4180c-426a-4989-94fa-facf17b0b2a3",
   "metadata": {},
   "source": [
    "#### reading in file"
   ]
  },
  {
   "cell_type": "code",
   "execution_count": 3,
   "id": "df905494-e712-4bfb-830d-43c9d8633a9f",
   "metadata": {},
   "outputs": [],
   "source": [
    "df = pd.read_csv(\"diabetes_selected_features.csv\")"
   ]
  },
  {
   "cell_type": "code",
   "execution_count": 4,
   "id": "8908c731-c37c-4aeb-a7f4-450c3c8beb49",
   "metadata": {},
   "outputs": [
    {
     "data": {
      "text/html": [
       "<div>\n",
       "<style scoped>\n",
       "    .dataframe tbody tr th:only-of-type {\n",
       "        vertical-align: middle;\n",
       "    }\n",
       "\n",
       "    .dataframe tbody tr th {\n",
       "        vertical-align: top;\n",
       "    }\n",
       "\n",
       "    .dataframe thead th {\n",
       "        text-align: right;\n",
       "    }\n",
       "</style>\n",
       "<table border=\"1\" class=\"dataframe\">\n",
       "  <thead>\n",
       "    <tr style=\"text-align: right;\">\n",
       "      <th></th>\n",
       "      <th>age</th>\n",
       "      <th>hypertension</th>\n",
       "      <th>bmi</th>\n",
       "      <th>hbA1c_level</th>\n",
       "      <th>blood_glucose_level</th>\n",
       "      <th>diabetes</th>\n",
       "    </tr>\n",
       "  </thead>\n",
       "  <tbody>\n",
       "    <tr>\n",
       "      <th>0</th>\n",
       "      <td>32.0</td>\n",
       "      <td>0</td>\n",
       "      <td>27.32</td>\n",
       "      <td>5.0</td>\n",
       "      <td>100</td>\n",
       "      <td>0</td>\n",
       "    </tr>\n",
       "    <tr>\n",
       "      <th>1</th>\n",
       "      <td>29.0</td>\n",
       "      <td>0</td>\n",
       "      <td>19.95</td>\n",
       "      <td>5.0</td>\n",
       "      <td>90</td>\n",
       "      <td>0</td>\n",
       "    </tr>\n",
       "    <tr>\n",
       "      <th>2</th>\n",
       "      <td>18.0</td>\n",
       "      <td>0</td>\n",
       "      <td>23.76</td>\n",
       "      <td>4.8</td>\n",
       "      <td>160</td>\n",
       "      <td>0</td>\n",
       "    </tr>\n",
       "    <tr>\n",
       "      <th>3</th>\n",
       "      <td>41.0</td>\n",
       "      <td>0</td>\n",
       "      <td>27.32</td>\n",
       "      <td>4.0</td>\n",
       "      <td>159</td>\n",
       "      <td>0</td>\n",
       "    </tr>\n",
       "    <tr>\n",
       "      <th>4</th>\n",
       "      <td>52.0</td>\n",
       "      <td>0</td>\n",
       "      <td>23.75</td>\n",
       "      <td>6.5</td>\n",
       "      <td>90</td>\n",
       "      <td>0</td>\n",
       "    </tr>\n",
       "  </tbody>\n",
       "</table>\n",
       "</div>"
      ],
      "text/plain": [
       "    age  hypertension    bmi  hbA1c_level  blood_glucose_level  diabetes\n",
       "0  32.0             0  27.32          5.0                  100         0\n",
       "1  29.0             0  19.95          5.0                   90         0\n",
       "2  18.0             0  23.76          4.8                  160         0\n",
       "3  41.0             0  27.32          4.0                  159         0\n",
       "4  52.0             0  23.75          6.5                   90         0"
      ]
     },
     "execution_count": 4,
     "metadata": {},
     "output_type": "execute_result"
    }
   ],
   "source": [
    "df.head()"
   ]
  },
  {
   "cell_type": "code",
   "execution_count": 5,
   "id": "ce96459d-abca-48c8-aba5-394c7062bedc",
   "metadata": {},
   "outputs": [],
   "source": [
    "from sklearn.ensemble import RandomForestClassifier\n",
    "from sklearn.metrics import accuracy_score\n",
    "from sklearn.preprocessing import StandardScaler\n",
    "import numpy as np"
   ]
  },
  {
   "cell_type": "code",
   "execution_count": 6,
   "id": "9d92c444-8892-430f-b5af-ec8d045c4413",
   "metadata": {},
   "outputs": [],
   "source": [
    "train_data = df[:int(len(df)*0.8)]\n",
    "test_data = df[int(len(df)*0.8):]\n",
    "X_train = train_data.iloc[:,:-1]\n",
    "y_train = train_data.iloc[:,-1:]\n",
    "X_test = test_data.iloc[:,:-1]\n",
    "y_test = test_data.iloc[:,-1:]"
   ]
  },
  {
   "cell_type": "code",
   "execution_count": null,
   "id": "fcb8cd29-0c86-44d1-bcd6-e9599a90f016",
   "metadata": {},
   "outputs": [],
   "source": []
  },
  {
   "cell_type": "markdown",
   "id": "5441d5ec-50d0-4b0a-8138-643f04240ef3",
   "metadata": {},
   "source": [
    "#### check the train, test datasets"
   ]
  },
  {
   "cell_type": "code",
   "execution_count": 7,
   "id": "3b282a29-a42c-42bb-b7da-0c8478e61a80",
   "metadata": {},
   "outputs": [
    {
     "name": "stdout",
     "output_type": "stream",
     "text": [
      "    age  hypertension    bmi  hbA1c_level  blood_glucose_level\n",
      "0  32.0             0  27.32          5.0                  100\n",
      "1  29.0             0  19.95          5.0                   90\n",
      "2  18.0             0  23.76          4.8                  160\n",
      "3  41.0             0  27.32          4.0                  159\n",
      "4  52.0             0  23.75          6.5                   90 \n",
      "    diabetes\n",
      "0         0\n",
      "1         0\n",
      "2         0\n",
      "3         0\n",
      "4         0 \n",
      "         age  hypertension    bmi  hbA1c_level  blood_glucose_level\n",
      "80000  80.0             0  23.46          6.5                  200\n",
      "80001   2.0             0  21.72          5.0                  126\n",
      "80002  45.0             0  31.77          6.0                  155\n",
      "80003  42.0             0  27.32          5.7                  159\n",
      "80004  80.0             0  22.93          6.0                  200 \n",
      "        diabetes\n",
      "80000         0\n",
      "80001         0\n",
      "80002         0\n",
      "80003         0\n",
      "80004         0\n"
     ]
    }
   ],
   "source": [
    "print(X_train.head(), \"\\n\",\n",
    "      y_train.head(), \"\\n\",\n",
    "      X_test.head(), \"\\n\",\n",
    "      y_test.head()\n",
    "     )"
   ]
  },
  {
   "cell_type": "code",
   "execution_count": 8,
   "id": "e37f2fa3-d716-4f55-9b4e-7f338a08bdba",
   "metadata": {},
   "outputs": [],
   "source": [
    "# Define variables:\n",
    "n_estimators = 10\n",
    "max_depth = 100\n",
    "random_state = 42\n",
    "\n",
    "# Standardize the features\n",
    "scaler = StandardScaler()\n",
    "X_train = scaler.fit_transform(X_train)\n",
    "X_test = scaler.transform(X_test)\n",
    "# Create and train the RandomForest model\n",
    "model = RandomForestClassifier(n_estimators=n_estimators, max_depth=max_depth, random_state=random_state)\n",
    "model.fit(X_train, y_train)\n",
    "\n",
    "# Make predictions on the test set\n",
    "y_pred = model.predict(X_test)\n",
    "\n",
    "# Evaluate the accuracy\n",
    "accuracy = accuracy_score(y_test, y_pred)"
   ]
  },
  {
   "cell_type": "markdown",
   "id": "214a868d-56a4-4a28-84bd-7fba6f90202c",
   "metadata": {},
   "source": [
    "#### Random Forest model accuracy"
   ]
  },
  {
   "cell_type": "code",
   "execution_count": 9,
   "id": "b58adbea-d422-4215-b392-7260a465b467",
   "metadata": {},
   "outputs": [
    {
     "name": "stdout",
     "output_type": "stream",
     "text": [
      "96.67%\n"
     ]
    }
   ],
   "source": [
    "print(f'{accuracy*100}%')"
   ]
  },
  {
   "cell_type": "markdown",
   "id": "7dd3688f-6c42-4c3f-97e2-80dee824a1aa",
   "metadata": {},
   "source": [
    "### Making predictions with random data"
   ]
  },
  {
   "cell_type": "code",
   "execution_count": 10,
   "id": "d70ef2df-d8f4-474e-acc9-ca9392567035",
   "metadata": {},
   "outputs": [
    {
     "name": "stdout",
     "output_type": "stream",
     "text": [
      "0\n"
     ]
    }
   ],
   "source": [
    "pred = [[1,0,3,3.3,55]]\n",
    "print(model.predict(scaler.transform(pd.DataFrame(pred, \n",
    "                                            columns=['age', 'hypertension', 'bmi', 'hbA1c_level', 'blood_glucose_level']\n",
    "                                           )))[0])\n"
   ]
  },
  {
   "cell_type": "code",
   "execution_count": null,
   "id": "66c604fc-1ddc-4323-a601-fdafcf2e56c4",
   "metadata": {},
   "outputs": [],
   "source": []
  },
  {
   "cell_type": "code",
   "execution_count": null,
   "id": "dba5ca58-8d3e-49d6-aa31-605b2e06bb5d",
   "metadata": {},
   "outputs": [],
   "source": []
  }
 ],
 "metadata": {
  "kernelspec": {
   "display_name": "Python 3 (ipykernel)",
   "language": "python",
   "name": "python3"
  },
  "language_info": {
   "codemirror_mode": {
    "name": "ipython",
    "version": 3
   },
   "file_extension": ".py",
   "mimetype": "text/x-python",
   "name": "python",
   "nbconvert_exporter": "python",
   "pygments_lexer": "ipython3",
   "version": "3.12.9"
  }
 },
 "nbformat": 4,
 "nbformat_minor": 5
}
