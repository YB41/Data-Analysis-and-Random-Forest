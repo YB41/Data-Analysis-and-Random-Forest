{
 "cells": [
  {
   "cell_type": "code",
   "execution_count": 1,
   "id": "b228cdd3-eb83-482f-b5e7-e999719da2f2",
   "metadata": {},
   "outputs": [
    {
     "name": "stderr",
     "output_type": "stream",
     "text": [
      "ERROR: You must give at least one requirement to install (see \"pip help install\")\n"
     ]
    }
   ],
   "source": [
    "!pip install "
   ]
  },
  {
   "cell_type": "code",
   "execution_count": 2,
   "id": "bb4f5cf1-a99f-49ea-9eb8-5a2af8cb8610",
   "metadata": {},
   "outputs": [],
   "source": [
    "import pandas as pd\n",
    "import numpy as np"
   ]
  },
  {
   "cell_type": "code",
   "execution_count": 3,
   "id": "bb59e6cb-f17c-41ee-91b5-1969445d1a6e",
   "metadata": {},
   "outputs": [],
   "source": [
    "df = pd.read_csv(\"diabetes_dataset_with_notes.csv\")"
   ]
  },
  {
   "cell_type": "markdown",
   "id": "1a9ddda4-e3bc-49c7-8f85-285441a902a1",
   "metadata": {},
   "source": [
    "# General information"
   ]
  },
  {
   "cell_type": "code",
   "execution_count": 4,
   "id": "d3b80045-e6a8-4648-9ab3-20b123a6a0d4",
   "metadata": {},
   "outputs": [
    {
     "name": "stdout",
     "output_type": "stream",
     "text": [
      "year 0\n",
      "gender 0\n",
      "age 0\n",
      "location 0\n",
      "race:AfricanAmerican 0\n",
      "race:Asian 0\n",
      "race:Caucasian 0\n",
      "race:Hispanic 0\n",
      "race:Other 0\n",
      "hypertension 0\n",
      "heart_disease 0\n",
      "smoking_history 0\n",
      "bmi 0\n",
      "hbA1c_level 0\n",
      "blood_glucose_level 0\n",
      "diabetes 0\n",
      "clinical_notes 0\n"
     ]
    }
   ],
   "source": [
    "# check each column for null values. The expectation here is that there are no null values due \n",
    "# the dataset already being clean\n",
    "for column in df.columns:\n",
    "    bool_series = pd.isnull(df[column])\n",
    "    missing_values_count = bool_series.sum()\n",
    "    print(column, missing_values_count)"
   ]
  },
  {
   "cell_type": "code",
   "execution_count": 5,
   "id": "f55cb5ef-bd8a-4d94-b16e-2b0606255915",
   "metadata": {},
   "outputs": [
    {
     "data": {
      "text/html": [
       "<div>\n",
       "<style scoped>\n",
       "    .dataframe tbody tr th:only-of-type {\n",
       "        vertical-align: middle;\n",
       "    }\n",
       "\n",
       "    .dataframe tbody tr th {\n",
       "        vertical-align: top;\n",
       "    }\n",
       "\n",
       "    .dataframe thead th {\n",
       "        text-align: right;\n",
       "    }\n",
       "</style>\n",
       "<table border=\"1\" class=\"dataframe\">\n",
       "  <thead>\n",
       "    <tr style=\"text-align: right;\">\n",
       "      <th></th>\n",
       "      <th>year</th>\n",
       "      <th>age</th>\n",
       "      <th>race:AfricanAmerican</th>\n",
       "      <th>race:Asian</th>\n",
       "      <th>race:Caucasian</th>\n",
       "      <th>race:Hispanic</th>\n",
       "      <th>race:Other</th>\n",
       "      <th>hypertension</th>\n",
       "      <th>heart_disease</th>\n",
       "      <th>bmi</th>\n",
       "      <th>hbA1c_level</th>\n",
       "      <th>blood_glucose_level</th>\n",
       "      <th>diabetes</th>\n",
       "    </tr>\n",
       "  </thead>\n",
       "  <tbody>\n",
       "    <tr>\n",
       "      <th>count</th>\n",
       "      <td>100000.000000</td>\n",
       "      <td>100000.000000</td>\n",
       "      <td>100000.000000</td>\n",
       "      <td>100000.000000</td>\n",
       "      <td>100000.000000</td>\n",
       "      <td>100000.00000</td>\n",
       "      <td>100000.000000</td>\n",
       "      <td>100000.00000</td>\n",
       "      <td>100000.000000</td>\n",
       "      <td>100000.000000</td>\n",
       "      <td>100000.000000</td>\n",
       "      <td>100000.000000</td>\n",
       "      <td>100000.000000</td>\n",
       "    </tr>\n",
       "    <tr>\n",
       "      <th>mean</th>\n",
       "      <td>2018.360820</td>\n",
       "      <td>41.885856</td>\n",
       "      <td>0.202230</td>\n",
       "      <td>0.200150</td>\n",
       "      <td>0.198760</td>\n",
       "      <td>0.19888</td>\n",
       "      <td>0.199980</td>\n",
       "      <td>0.07485</td>\n",
       "      <td>0.039420</td>\n",
       "      <td>27.320767</td>\n",
       "      <td>5.527507</td>\n",
       "      <td>138.058060</td>\n",
       "      <td>0.085000</td>\n",
       "    </tr>\n",
       "    <tr>\n",
       "      <th>std</th>\n",
       "      <td>1.345239</td>\n",
       "      <td>22.516840</td>\n",
       "      <td>0.401665</td>\n",
       "      <td>0.400114</td>\n",
       "      <td>0.399069</td>\n",
       "      <td>0.39916</td>\n",
       "      <td>0.399987</td>\n",
       "      <td>0.26315</td>\n",
       "      <td>0.194593</td>\n",
       "      <td>6.636783</td>\n",
       "      <td>1.070672</td>\n",
       "      <td>40.708136</td>\n",
       "      <td>0.278883</td>\n",
       "    </tr>\n",
       "    <tr>\n",
       "      <th>min</th>\n",
       "      <td>2015.000000</td>\n",
       "      <td>0.080000</td>\n",
       "      <td>0.000000</td>\n",
       "      <td>0.000000</td>\n",
       "      <td>0.000000</td>\n",
       "      <td>0.00000</td>\n",
       "      <td>0.000000</td>\n",
       "      <td>0.00000</td>\n",
       "      <td>0.000000</td>\n",
       "      <td>10.010000</td>\n",
       "      <td>3.500000</td>\n",
       "      <td>80.000000</td>\n",
       "      <td>0.000000</td>\n",
       "    </tr>\n",
       "    <tr>\n",
       "      <th>25%</th>\n",
       "      <td>2019.000000</td>\n",
       "      <td>24.000000</td>\n",
       "      <td>0.000000</td>\n",
       "      <td>0.000000</td>\n",
       "      <td>0.000000</td>\n",
       "      <td>0.00000</td>\n",
       "      <td>0.000000</td>\n",
       "      <td>0.00000</td>\n",
       "      <td>0.000000</td>\n",
       "      <td>23.630000</td>\n",
       "      <td>4.800000</td>\n",
       "      <td>100.000000</td>\n",
       "      <td>0.000000</td>\n",
       "    </tr>\n",
       "    <tr>\n",
       "      <th>50%</th>\n",
       "      <td>2019.000000</td>\n",
       "      <td>43.000000</td>\n",
       "      <td>0.000000</td>\n",
       "      <td>0.000000</td>\n",
       "      <td>0.000000</td>\n",
       "      <td>0.00000</td>\n",
       "      <td>0.000000</td>\n",
       "      <td>0.00000</td>\n",
       "      <td>0.000000</td>\n",
       "      <td>27.320000</td>\n",
       "      <td>5.800000</td>\n",
       "      <td>140.000000</td>\n",
       "      <td>0.000000</td>\n",
       "    </tr>\n",
       "    <tr>\n",
       "      <th>75%</th>\n",
       "      <td>2019.000000</td>\n",
       "      <td>60.000000</td>\n",
       "      <td>0.000000</td>\n",
       "      <td>0.000000</td>\n",
       "      <td>0.000000</td>\n",
       "      <td>0.00000</td>\n",
       "      <td>0.000000</td>\n",
       "      <td>0.00000</td>\n",
       "      <td>0.000000</td>\n",
       "      <td>29.580000</td>\n",
       "      <td>6.200000</td>\n",
       "      <td>159.000000</td>\n",
       "      <td>0.000000</td>\n",
       "    </tr>\n",
       "    <tr>\n",
       "      <th>max</th>\n",
       "      <td>2022.000000</td>\n",
       "      <td>80.000000</td>\n",
       "      <td>1.000000</td>\n",
       "      <td>1.000000</td>\n",
       "      <td>1.000000</td>\n",
       "      <td>1.00000</td>\n",
       "      <td>1.000000</td>\n",
       "      <td>1.00000</td>\n",
       "      <td>1.000000</td>\n",
       "      <td>95.690000</td>\n",
       "      <td>9.000000</td>\n",
       "      <td>300.000000</td>\n",
       "      <td>1.000000</td>\n",
       "    </tr>\n",
       "  </tbody>\n",
       "</table>\n",
       "</div>"
      ],
      "text/plain": [
       "                year            age  race:AfricanAmerican     race:Asian  \\\n",
       "count  100000.000000  100000.000000         100000.000000  100000.000000   \n",
       "mean     2018.360820      41.885856              0.202230       0.200150   \n",
       "std         1.345239      22.516840              0.401665       0.400114   \n",
       "min      2015.000000       0.080000              0.000000       0.000000   \n",
       "25%      2019.000000      24.000000              0.000000       0.000000   \n",
       "50%      2019.000000      43.000000              0.000000       0.000000   \n",
       "75%      2019.000000      60.000000              0.000000       0.000000   \n",
       "max      2022.000000      80.000000              1.000000       1.000000   \n",
       "\n",
       "       race:Caucasian  race:Hispanic     race:Other  hypertension  \\\n",
       "count   100000.000000   100000.00000  100000.000000  100000.00000   \n",
       "mean         0.198760        0.19888       0.199980       0.07485   \n",
       "std          0.399069        0.39916       0.399987       0.26315   \n",
       "min          0.000000        0.00000       0.000000       0.00000   \n",
       "25%          0.000000        0.00000       0.000000       0.00000   \n",
       "50%          0.000000        0.00000       0.000000       0.00000   \n",
       "75%          0.000000        0.00000       0.000000       0.00000   \n",
       "max          1.000000        1.00000       1.000000       1.00000   \n",
       "\n",
       "       heart_disease            bmi    hbA1c_level  blood_glucose_level  \\\n",
       "count  100000.000000  100000.000000  100000.000000        100000.000000   \n",
       "mean        0.039420      27.320767       5.527507           138.058060   \n",
       "std         0.194593       6.636783       1.070672            40.708136   \n",
       "min         0.000000      10.010000       3.500000            80.000000   \n",
       "25%         0.000000      23.630000       4.800000           100.000000   \n",
       "50%         0.000000      27.320000       5.800000           140.000000   \n",
       "75%         0.000000      29.580000       6.200000           159.000000   \n",
       "max         1.000000      95.690000       9.000000           300.000000   \n",
       "\n",
       "            diabetes  \n",
       "count  100000.000000  \n",
       "mean        0.085000  \n",
       "std         0.278883  \n",
       "min         0.000000  \n",
       "25%         0.000000  \n",
       "50%         0.000000  \n",
       "75%         0.000000  \n",
       "max         1.000000  "
      ]
     },
     "execution_count": 5,
     "metadata": {},
     "output_type": "execute_result"
    }
   ],
   "source": [
    "df.describe()"
   ]
  },
  {
   "cell_type": "code",
   "execution_count": 6,
   "id": "81502ab9-5543-45f4-ba61-0c652fce62ad",
   "metadata": {},
   "outputs": [
    {
     "data": {
      "text/plain": [
       "array(['Female', 'Male', 'Other'], dtype=object)"
      ]
     },
     "execution_count": 6,
     "metadata": {},
     "output_type": "execute_result"
    }
   ],
   "source": [
    "df[\"gender\"].unique()"
   ]
  },
  {
   "cell_type": "markdown",
   "id": "f44c7d0e-6df4-428b-b94b-f601c4ff49e2",
   "metadata": {},
   "source": [
    "### Hypertension"
   ]
  },
  {
   "cell_type": "code",
   "execution_count": 7,
   "id": "abe4fb43-3ca6-402b-ac67-313a09bf3543",
   "metadata": {},
   "outputs": [
    {
     "data": {
      "text/plain": [
       "7485"
      ]
     },
     "execution_count": 7,
     "metadata": {},
     "output_type": "execute_result"
    }
   ],
   "source": [
    "# total number of people with hypertension\n",
    "sum(df[df[\"hypertension\"]==1][\"hypertension\"])"
   ]
  },
  {
   "cell_type": "code",
   "execution_count": 8,
   "id": "8c656b25-a93c-4440-99c4-1e794ce5d669",
   "metadata": {},
   "outputs": [
    {
     "name": "stdout",
     "output_type": "stream",
     "text": [
      "Hypertension: \n",
      "AfricanAmerican:  1501 \n",
      "Asian:  1540 \n",
      "Caucasian:  1493 \n",
      "Hispanic:  1503 \n",
      "Other:  1448\n"
     ]
    }
   ],
   "source": [
    "# Discover how many people with Hypertension present in each Race\n",
    "print(\n",
    "    \"Hypertension:\",\n",
    "    \"\\nAfricanAmerican: \", sum(df[df[\"race:AfricanAmerican\"]==1][\"hypertension\"]),\n",
    "    \"\\nAsian: \",sum(df[df[\"race:Asian\"]==1][\"hypertension\"]),\n",
    "    \"\\nCaucasian: \",sum(df[df[\"race:Caucasian\"]==1][\"hypertension\"]),\n",
    "    \"\\nHispanic: \",sum(df[df[\"race:Hispanic\"]==1][\"hypertension\"]),\n",
    "    \"\\nOther: \",sum(df[df[\"race:Other\"]==1][\"hypertension\"]),\n",
    "     )"
   ]
  },
  {
   "cell_type": "markdown",
   "id": "9cfabc3e-fd6f-4faa-bbb4-8fa8fd43f9a7",
   "metadata": {},
   "source": [
    "### Heart disease"
   ]
  },
  {
   "cell_type": "code",
   "execution_count": 9,
   "id": "43566f94-94ac-4419-ba72-2d5c84b46caa",
   "metadata": {},
   "outputs": [
    {
     "data": {
      "text/plain": [
       "3942"
      ]
     },
     "execution_count": 9,
     "metadata": {},
     "output_type": "execute_result"
    }
   ],
   "source": [
    "# total amount of people with heart disease:\n",
    "sum(df[df[\"heart_disease\"]==1][\"heart_disease\"])"
   ]
  },
  {
   "cell_type": "code",
   "execution_count": 10,
   "id": "db742a6c-e1fb-43b8-9107-d4ecb46adb51",
   "metadata": {},
   "outputs": [
    {
     "name": "stdout",
     "output_type": "stream",
     "text": [
      "Heart disease: \n",
      "AfricanAmerican:  792 \n",
      "Asian:  837 \n",
      "Caucasian:  774 \n",
      "Hispanic:  778 \n",
      "Other:  761\n"
     ]
    }
   ],
   "source": [
    "# Discover how many people with Heart disease present in each Race\n",
    "print(\n",
    "    \"Heart disease:\",\n",
    "    \"\\nAfricanAmerican: \", sum(df[df[\"race:AfricanAmerican\"]==1][\"heart_disease\"]),\n",
    "    \"\\nAsian: \",sum(df[df[\"race:Asian\"]==1][\"heart_disease\"]),\n",
    "    \"\\nCaucasian: \",sum(df[df[\"race:Caucasian\"]==1][\"heart_disease\"]),\n",
    "    \"\\nHispanic: \",sum(df[df[\"race:Hispanic\"]==1][\"heart_disease\"]),\n",
    "    \"\\nOther: \",sum(df[df[\"race:Other\"]==1][\"heart_disease\"]),\n",
    "     )"
   ]
  },
  {
   "cell_type": "markdown",
   "id": "8b4aab47-dc3d-4bfe-89a3-4c74b13ada7c",
   "metadata": {},
   "source": [
    "### BMI"
   ]
  },
  {
   "cell_type": "code",
   "execution_count": 11,
   "id": "4d8db825-2f66-4c8f-9cee-aeb2fd50b350",
   "metadata": {},
   "outputs": [
    {
     "name": "stdout",
     "output_type": "stream",
     "text": [
      "BMI: \n",
      "AfricanAmerican:  27.304301537852936 \n",
      "Asian:  27.3902817886585 \n",
      "Caucasian:  27.292599114509958 \n",
      "Hispanic:  27.35223702735318 \n",
      "Other:  27.264543454345432\n"
     ]
    }
   ],
   "source": [
    "# Discover how many people with BMI present in each Race\n",
    "print(\n",
    "    \"BMI:\",\n",
    "    \"\\nAfricanAmerican: \", np.mean(df[df[\"race:AfricanAmerican\"]==1][\"bmi\"]),\n",
    "    \"\\nAsian: \",np.mean(df[df[\"race:Asian\"]==1][\"bmi\"]),\n",
    "    \"\\nCaucasian: \",np.mean(df[df[\"race:Caucasian\"]==1][\"bmi\"]),\n",
    "    \"\\nHispanic: \",np.mean(df[df[\"race:Hispanic\"]==1][\"bmi\"]),\n",
    "    \"\\nOther: \",np.mean(df[df[\"race:Other\"]==1][\"bmi\"]),\n",
    "     )"
   ]
  },
  {
   "cell_type": "markdown",
   "id": "fa924524-1d58-4b07-97d5-bfa9d866ac98",
   "metadata": {},
   "source": [
    "### hbA1c_level"
   ]
  },
  {
   "cell_type": "code",
   "execution_count": 12,
   "id": "a4975d36-17d2-443d-8c53-0e293c48b496",
   "metadata": {},
   "outputs": [
    {
     "name": "stdout",
     "output_type": "stream",
     "text": [
      "hbA1c_level: \n",
      "AfricanAmerican:  5.530297186371953 \n",
      "Asian:  5.52649512865351 \n",
      "Caucasian:  5.518836788086134 \n",
      "Hispanic:  5.528464400643604 \n",
      "Other:  5.533363336333633\n"
     ]
    }
   ],
   "source": [
    "# Discover how many people with hbA1c_level present in each Race\n",
    "print(\n",
    "    \"hbA1c_level:\",\n",
    "    \"\\nAfricanAmerican: \", np.mean(df[df[\"race:AfricanAmerican\"]==1][\"hbA1c_level\"]),\n",
    "    \"\\nAsian: \",np.mean(df[df[\"race:Asian\"]==1][\"hbA1c_level\"]),\n",
    "    \"\\nCaucasian: \",np.mean(df[df[\"race:Caucasian\"]==1][\"hbA1c_level\"]),\n",
    "    \"\\nHispanic: \",np.mean(df[df[\"race:Hispanic\"]==1][\"hbA1c_level\"]),\n",
    "    \"\\nOther: \",np.mean(df[df[\"race:Other\"]==1][\"hbA1c_level\"]),\n",
    "     )"
   ]
  },
  {
   "cell_type": "markdown",
   "id": "bff932f5-c799-4674-b246-2401b2c015ec",
   "metadata": {},
   "source": [
    "### blood_glucose_level"
   ]
  },
  {
   "cell_type": "code",
   "execution_count": 13,
   "id": "f0829796-1a2e-4029-a127-1fb126e35cce",
   "metadata": {},
   "outputs": [
    {
     "name": "stdout",
     "output_type": "stream",
     "text": [
      "blood_glucose_level: \n",
      "AfricanAmerican:  138.24333679473867 \n",
      "Asian:  138.07194604046964 \n",
      "Caucasian:  138.39489836989333 \n",
      "Hispanic:  137.83879726468223 \n",
      "Other:  137.74007400740075\n"
     ]
    }
   ],
   "source": [
    "# Discover how many people with blood_glucose_level present in each Race\n",
    "print(\n",
    "    \"blood_glucose_level:\",\n",
    "    \"\\nAfricanAmerican: \", np.mean(df[df[\"race:AfricanAmerican\"]==1][\"blood_glucose_level\"]),\n",
    "    \"\\nAsian: \",np.mean(df[df[\"race:Asian\"]==1][\"blood_glucose_level\"]),\n",
    "    \"\\nCaucasian: \",np.mean(df[df[\"race:Caucasian\"]==1][\"blood_glucose_level\"]),\n",
    "    \"\\nHispanic: \",np.mean(df[df[\"race:Hispanic\"]==1][\"blood_glucose_level\"]),\n",
    "    \"\\nOther: \",np.mean(df[df[\"race:Other\"]==1][\"blood_glucose_level\"]),\n",
    "     )"
   ]
  },
  {
   "cell_type": "markdown",
   "id": "f8bae142-34a5-4b4e-9d6e-d9830f61dd48",
   "metadata": {},
   "source": [
    "### diabetes"
   ]
  },
  {
   "cell_type": "code",
   "execution_count": 14,
   "id": "fe0d0de0-81fb-4a4a-af3b-bb696517acfd",
   "metadata": {},
   "outputs": [
    {
     "name": "stdout",
     "output_type": "stream",
     "text": [
      "diabetes: \n",
      "AfricanAmerican:  1768 \n",
      "Asian:  1743 \n",
      "Caucasian:  1670 \n",
      "Hispanic:  1676 \n",
      "Other:  1643\n"
     ]
    }
   ],
   "source": [
    "# Discover how many people with diabetes present in each Race\n",
    "print(\n",
    "    \"diabetes:\",\n",
    "    \"\\nAfricanAmerican: \", np.sum(df[df[\"race:AfricanAmerican\"]==1][\"diabetes\"]),\n",
    "    \"\\nAsian: \",np.sum(df[df[\"race:Asian\"]==1][\"diabetes\"]),\n",
    "    \"\\nCaucasian: \",np.sum(df[df[\"race:Caucasian\"]==1][\"diabetes\"]),\n",
    "    \"\\nHispanic: \",np.sum(df[df[\"race:Hispanic\"]==1][\"diabetes\"]),\n",
    "    \"\\nOther: \",np.sum(df[df[\"race:Other\"]==1][\"diabetes\"]),\n",
    "     )"
   ]
  },
  {
   "cell_type": "markdown",
   "id": "78369754-dbb2-47ea-ba98-a1fba5a8eb3c",
   "metadata": {},
   "source": [
    "### gender"
   ]
  },
  {
   "cell_type": "code",
   "execution_count": 15,
   "id": "8d368984-1c00-4e60-a901-e35ea2737522",
   "metadata": {},
   "outputs": [
    {
     "name": "stdout",
     "output_type": "stream",
     "text": [
      "Female distribution per race: \n",
      "AfricanAmerican:  11807 \n",
      "Asian:  11716 \n",
      "Caucasian:  11723 \n",
      "Hispanic:  11601 \n",
      "Other:  11705\n"
     ]
    }
   ],
   "source": [
    "# Discover how many Females present in each Race\n",
    "print(\n",
    "    \"Female distribution per race:\",\n",
    "    \"\\nAfricanAmerican: \", np.shape(df[(df[\"race:AfricanAmerican\"]==1) & (df[\"gender\"]==\"Female\")])[0],\n",
    "    \"\\nAsian: \",np.shape(df[(df[\"race:Asian\"]==1) & (df[\"gender\"]==\"Female\")])[0],\n",
    "    \"\\nCaucasian: \",np.shape(df[(df[\"race:Caucasian\"]==1) & (df[\"gender\"]==\"Female\")])[0],\n",
    "    \"\\nHispanic: \",np.shape(df[(df[\"race:Hispanic\"]==1) & (df[\"gender\"]==\"Female\")])[0],\n",
    "    \"\\nOther: \",np.shape(df[(df[\"race:Other\"]==1) & (df[\"gender\"]==\"Female\")])[0],\n",
    "     )"
   ]
  },
  {
   "cell_type": "code",
   "execution_count": 16,
   "id": "4e2fba00-5542-4220-9005-1bcb2ea450d6",
   "metadata": {},
   "outputs": [
    {
     "name": "stdout",
     "output_type": "stream",
     "text": [
      "Male distribution per race: \n",
      "AfricanAmerican:  8414 \n",
      "Asian:  8297 \n",
      "Caucasian:  8144 \n",
      "Hispanic:  8284 \n",
      "Other:  8291\n"
     ]
    }
   ],
   "source": [
    "# Discover how many Males present in each Race\n",
    "print(\n",
    "    \"Male distribution per race:\",\n",
    "    \"\\nAfricanAmerican: \", np.shape(df[(df[\"race:AfricanAmerican\"]==1) & (df[\"gender\"]==\"Male\")])[0],\n",
    "    \"\\nAsian: \",np.shape(df[(df[\"race:Asian\"]==1) & (df[\"gender\"]==\"Male\")])[0],\n",
    "    \"\\nCaucasian: \",np.shape(df[(df[\"race:Caucasian\"]==1) & (df[\"gender\"]==\"Male\")])[0],\n",
    "    \"\\nHispanic: \",np.shape(df[(df[\"race:Hispanic\"]==1) & (df[\"gender\"]==\"Male\")])[0],\n",
    "    \"\\nOther: \",np.shape(df[(df[\"race:Other\"]==1) & (df[\"gender\"]==\"Male\")])[0],\n",
    "     )"
   ]
  },
  {
   "cell_type": "markdown",
   "id": "801b488a-a30b-476d-a929-4443e3f12903",
   "metadata": {},
   "source": [
    "### location"
   ]
  },
  {
   "cell_type": "code",
   "execution_count": 17,
   "id": "d990ac72-3001-43f7-87d4-11acbdf7df10",
   "metadata": {},
   "outputs": [
    {
     "data": {
      "text/plain": [
       "array(['Alabama', 'Alaska', 'Arizona', 'Arkansas', 'California',\n",
       "       'Colorado', 'Connecticut', 'Delaware', 'District of Columbia',\n",
       "       'Florida', 'Georgia', 'Guam', 'Hawaii', 'Idaho', 'Illinois',\n",
       "       'Indiana', 'Iowa', 'Kansas', 'Kentucky', 'Louisiana', 'Maine',\n",
       "       'Maryland', 'Massachusetts', 'Michigan', 'Minnesota',\n",
       "       'Mississippi', 'Missouri', 'Montana', 'Nebraska', 'Nevada',\n",
       "       'New Hampshire', 'New Jersey', 'New Mexico', 'New York',\n",
       "       'North Carolina', 'North Dakota', 'Ohio', 'Oklahoma', 'Oregon',\n",
       "       'Pennsylvania', 'Puerto Rico', 'Rhode Island', 'South Carolina',\n",
       "       'South Dakota', 'Tennessee', 'Texas', 'United States', 'Utah',\n",
       "       'Vermont', 'Virgin Islands', 'Virginia', 'Washington',\n",
       "       'West Virginia', 'Wisconsin', 'Wyoming'], dtype=object)"
      ]
     },
     "execution_count": 17,
     "metadata": {},
     "output_type": "execute_result"
    }
   ],
   "source": [
    "df[\"location\"].unique()"
   ]
  },
  {
   "cell_type": "code",
   "execution_count": 18,
   "id": "8f63e68f-58d8-47a0-bb52-f1c3e05c70aa",
   "metadata": {},
   "outputs": [
    {
     "data": {
      "text/plain": [
       "location\n",
       "Kentucky                2038\n",
       "Iowa                    2038\n",
       "Hawaii                  2038\n",
       "Nebraska                2038\n",
       "Florida                 2037\n",
       "Minnesota               2037\n",
       "Arkansas                2037\n",
       "New Jersey              2037\n",
       "Massachusetts           2036\n",
       "Kansas                  2036\n",
       "Louisiana               2036\n",
       "District of Columbia    2036\n",
       "Maine                   2036\n",
       "Delaware                2036\n",
       "Georgia                 2036\n",
       "Michigan                2036\n",
       "Illinois                2036\n",
       "Pennsylvania            2036\n",
       "Oregon                  2036\n",
       "Alabama                 2036\n",
       "Connecticut             2035\n",
       "Maryland                2035\n",
       "Alaska                  2035\n",
       "North Dakota            2035\n",
       "New York                2035\n",
       "North Carolina          2035\n",
       "Mississippi             2035\n",
       "Rhode Island            2035\n",
       "Colorado                2035\n",
       "Missouri                2035\n",
       "New Hampshire           2035\n",
       "New Mexico              2033\n",
       "South Dakota            2033\n",
       "Montana                 2033\n",
       "Idaho                   1988\n",
       "South Carolina          1987\n",
       "Indiana                 1987\n",
       "Arizona                 1986\n",
       "California              1986\n",
       "Nevada                  1986\n",
       "Oklahoma                1986\n",
       "Ohio                    1986\n",
       "Tennessee               1574\n",
       "United States           1401\n",
       "Washington              1363\n",
       "Utah                    1359\n",
       "Virginia                1350\n",
       "Vermont                 1338\n",
       "Texas                   1337\n",
       "Puerto Rico             1295\n",
       "Guam                    1204\n",
       "West Virginia           1132\n",
       "Virgin Islands           763\n",
       "Wisconsin                388\n",
       "Wyoming                  388\n",
       "Name: count, dtype: int64"
      ]
     },
     "execution_count": 18,
     "metadata": {},
     "output_type": "execute_result"
    }
   ],
   "source": [
    "df[\"location\"].value_counts()"
   ]
  },
  {
   "cell_type": "markdown",
   "id": "658a7bf8-695c-49f8-8f3d-c33c3f3c71f0",
   "metadata": {},
   "source": [
    "### smoking history"
   ]
  },
  {
   "cell_type": "code",
   "execution_count": 19,
   "id": "f751c91b-5e3c-45ce-86b4-6e77035b4c25",
   "metadata": {},
   "outputs": [
    {
     "data": {
      "text/plain": [
       "array(['never', 'not current', 'current', 'No Info', 'ever', 'former'],\n",
       "      dtype=object)"
      ]
     },
     "execution_count": 19,
     "metadata": {},
     "output_type": "execute_result"
    }
   ],
   "source": [
    "df[\"smoking_history\"].unique()"
   ]
  },
  {
   "cell_type": "code",
   "execution_count": 20,
   "id": "92aee31d-c895-4077-9502-9b914fb2290a",
   "metadata": {},
   "outputs": [
    {
     "data": {
      "text/plain": [
       "smoking_history\n",
       "No Info        35816\n",
       "never          35095\n",
       "former          9352\n",
       "current         9286\n",
       "not current     6447\n",
       "ever            4004\n",
       "Name: count, dtype: int64"
      ]
     },
     "execution_count": 20,
     "metadata": {},
     "output_type": "execute_result"
    }
   ],
   "source": [
    "df[\"smoking_history\"].value_counts()"
   ]
  },
  {
   "cell_type": "code",
   "execution_count": 21,
   "id": "289b16f9-dd3b-447b-aa81-5f4c3045bb60",
   "metadata": {},
   "outputs": [
    {
     "name": "stdout",
     "output_type": "stream",
     "text": [
      "\u001b[1mMale distribution per smoking attribute never:\u001b[0m \n",
      "AfricanAmerican:  2494 \n",
      "Asian:  2427 \n",
      "Caucasian:  2402 \n",
      "Hispanic:  2460 \n",
      "Other:  2440\n",
      "\u001b[1mMale distribution per smoking attribute not current:\u001b[0m \n",
      "AfricanAmerican:  532 \n",
      "Asian:  518 \n",
      "Caucasian:  501 \n",
      "Hispanic:  471 \n",
      "Other:  504\n",
      "\u001b[1mMale distribution per smoking attribute current:\u001b[0m \n",
      "AfricanAmerican:  809 \n",
      "Asian:  819 \n",
      "Caucasian:  855 \n",
      "Hispanic:  881 \n",
      "Other:  864\n",
      "\u001b[1mMale distribution per smoking attribute No Info:\u001b[0m \n",
      "AfricanAmerican:  3241 \n",
      "Asian:  3260 \n",
      "Caucasian:  3148 \n",
      "Hispanic:  3261 \n",
      "Other:  3200\n",
      "\u001b[1mMale distribution per smoking attribute ever:\u001b[0m \n",
      "AfricanAmerican:  358 \n",
      "Asian:  367 \n",
      "Caucasian:  380 \n",
      "Hispanic:  317 \n",
      "Other:  343\n",
      "\u001b[1mMale distribution per smoking attribute former:\u001b[0m \n",
      "AfricanAmerican:  980 \n",
      "Asian:  906 \n",
      "Caucasian:  858 \n",
      "Hispanic:  894 \n",
      "Other:  940\n"
     ]
    }
   ],
   "source": [
    "for i in df[\"smoking_history\"].unique():\n",
    "    print(\n",
    "    '\\033[1m' + f\"Male distribution per smoking attribute {i}:\" + '\\033[0m',\n",
    "    \"\\nAfricanAmerican: \", np.shape(df[(df[\"race:AfricanAmerican\"]==1) & \n",
    "                                    (df[\"gender\"]==\"Male\") & \n",
    "                                    (df[\"smoking_history\"]==f\"{i}\")])[0],\n",
    "    \"\\nAsian: \",np.shape(df[(df[\"race:Asian\"]==1) & \n",
    "                                    (df[\"gender\"]==\"Male\") & \n",
    "                                    (df[\"smoking_history\"]==f\"{i}\")])[0],\n",
    "    \"\\nCaucasian: \",np.shape(df[(df[\"race:Caucasian\"]==1) & \n",
    "                                    (df[\"gender\"]==\"Male\") & \n",
    "                                    (df[\"smoking_history\"]==f\"{i}\")])[0],\n",
    "    \"\\nHispanic: \",np.shape(df[(df[\"race:Hispanic\"]==1) & \n",
    "                                    (df[\"gender\"]==\"Male\") & \n",
    "                                    (df[\"smoking_history\"]==f\"{i}\")])[0],\n",
    "    \"\\nOther: \",np.shape(df[(df[\"race:Other\"]==1) & \n",
    "                                    (df[\"gender\"]==\"Male\") & \n",
    "                                    (df[\"smoking_history\"]==f\"{i}\")])[0],\n",
    "     )\n"
   ]
  },
  {
   "cell_type": "code",
   "execution_count": 22,
   "id": "82eb6c83-6b83-4e30-8ad8-7240923c334a",
   "metadata": {},
   "outputs": [
    {
     "name": "stdout",
     "output_type": "stream",
     "text": [
      "\u001b[1mMale distribution per smoking attribute never:\u001b[0m \n",
      "AfricanAmerican:  4682 \n",
      "Asian:  4574 \n",
      "Caucasian:  4601 \n",
      "Hispanic:  4434 \n",
      "Other:  4578\n",
      "\u001b[1mMale distribution per smoking attribute not current:\u001b[0m \n",
      "AfricanAmerican:  796 \n",
      "Asian:  772 \n",
      "Caucasian:  809 \n",
      "Hispanic:  776 \n",
      "Other:  760\n",
      "\u001b[1mMale distribution per smoking attribute current:\u001b[0m \n",
      "AfricanAmerican:  1018 \n",
      "Asian:  965 \n",
      "Caucasian:  1030 \n",
      "Hispanic:  1062 \n",
      "Other:  983\n",
      "\u001b[1mMale distribution per smoking attribute No Info:\u001b[0m \n",
      "AfricanAmerican:  3918 \n",
      "Asian:  4005 \n",
      "Caucasian:  3879 \n",
      "Hispanic:  3891 \n",
      "Other:  4007\n",
      "\u001b[1mMale distribution per smoking attribute ever:\u001b[0m \n",
      "AfricanAmerican:  467 \n",
      "Asian:  445 \n",
      "Caucasian:  431 \n",
      "Hispanic:  463 \n",
      "Other:  432\n",
      "\u001b[1mMale distribution per smoking attribute former:\u001b[0m \n",
      "AfricanAmerican:  926 \n",
      "Asian:  955 \n",
      "Caucasian:  973 \n",
      "Hispanic:  975 \n",
      "Other:  945\n"
     ]
    }
   ],
   "source": [
    "for i in df[\"smoking_history\"].unique():\n",
    "    print(\n",
    "    '\\033[1m' + f\"Male distribution per smoking attribute {i}:\" + '\\033[0m',\n",
    "    \"\\nAfricanAmerican: \", np.shape(df[(df[\"race:AfricanAmerican\"]==1) & \n",
    "                                    (df[\"gender\"]==\"Female\") & \n",
    "                                    (df[\"smoking_history\"]==f\"{i}\")])[0],\n",
    "    \"\\nAsian: \",np.shape(df[(df[\"race:Asian\"]==1) & \n",
    "                                    (df[\"gender\"]==\"Female\") & \n",
    "                                    (df[\"smoking_history\"]==f\"{i}\")])[0],\n",
    "    \"\\nCaucasian: \",np.shape(df[(df[\"race:Caucasian\"]==1) & \n",
    "                                    (df[\"gender\"]==\"Female\") & \n",
    "                                    (df[\"smoking_history\"]==f\"{i}\")])[0],\n",
    "    \"\\nHispanic: \",np.shape(df[(df[\"race:Hispanic\"]==1) & \n",
    "                                    (df[\"gender\"]==\"Female\") & \n",
    "                                    (df[\"smoking_history\"]==f\"{i}\")])[0],\n",
    "    \"\\nOther: \",np.shape(df[(df[\"race:Other\"]==1) & \n",
    "                                    (df[\"gender\"]==\"Female\") & \n",
    "                                    (df[\"smoking_history\"]==f\"{i}\")])[0],\n",
    "     )\n"
   ]
  },
  {
   "cell_type": "markdown",
   "id": "f19ef57f-53d0-408f-a614-4c2a163c6192",
   "metadata": {},
   "source": [
    "# Variable selection"
   ]
  },
  {
   "cell_type": "code",
   "execution_count": 23,
   "id": "56e817f5-f7d2-4e00-88d1-16d4591e024a",
   "metadata": {},
   "outputs": [],
   "source": [
    "from sklearn.feature_selection import SelectKBest, chi2"
   ]
  },
  {
   "cell_type": "markdown",
   "id": "b8de7988-7c3f-4ff6-a990-86888ef94704",
   "metadata": {},
   "source": [
    "#### encode smoker:"
   ]
  },
  {
   "cell_type": "code",
   "execution_count": 24,
   "id": "416a5329-c6e5-4d5f-a9d6-999a119d414d",
   "metadata": {},
   "outputs": [],
   "source": [
    "df[\"smoking_history\"] = df['smoking_history'].map(dict(zip(['No Info','never','ever','not current','former','current'],[0,1,2,3,4,5])))"
   ]
  },
  {
   "cell_type": "markdown",
   "id": "ff610d12-9bf3-4eee-b9d4-0b53a50c9cda",
   "metadata": {},
   "source": [
    "### encode gender\n",
    "female = 0, male = 1"
   ]
  },
  {
   "cell_type": "code",
   "execution_count": 25,
   "id": "3a750f45-1e2f-4c03-b0e8-2bf1ac958e02",
   "metadata": {},
   "outputs": [],
   "source": [
    "df[\"gender\"] = df['gender'].map(dict(zip(['Female','Male', 'Other'],[0,1,2])))"
   ]
  },
  {
   "cell_type": "markdown",
   "id": "14b6177b-9348-41c6-a8e1-d53f8404402c",
   "metadata": {},
   "source": [
    "### removal of column US state"
   ]
  },
  {
   "cell_type": "code",
   "execution_count": 26,
   "id": "19d51b13-f259-4d3e-bac2-4660275f5d19",
   "metadata": {},
   "outputs": [],
   "source": [
    "df = df.drop('location', axis=1)"
   ]
  },
  {
   "cell_type": "code",
   "execution_count": 27,
   "id": "772e6b7b-302a-48cf-9ae7-1f039521a2e4",
   "metadata": {},
   "outputs": [],
   "source": [
    "#separate target and variables and remove clinical notes.\n",
    "X_train = df.iloc[:,:-2]\n",
    "y_train = df.iloc[:,-2:-1]\n"
   ]
  },
  {
   "cell_type": "markdown",
   "id": "02f3b15d-30b5-4268-b3ab-ece2d6ae479f",
   "metadata": {},
   "source": [
    "### checking data input for correctness:"
   ]
  },
  {
   "cell_type": "code",
   "execution_count": 28,
   "id": "e64401bc-ecb7-4a9c-98ce-457755839663",
   "metadata": {},
   "outputs": [
    {
     "data": {
      "text/plain": [
       "array([0, 1, 2])"
      ]
     },
     "execution_count": 28,
     "metadata": {},
     "output_type": "execute_result"
    }
   ],
   "source": [
    "df[\"gender\"].unique()"
   ]
  },
  {
   "cell_type": "code",
   "execution_count": 29,
   "id": "b4580f1e-ae7f-4bf8-9d47-785ef5febf9d",
   "metadata": {},
   "outputs": [
    {
     "data": {
      "text/html": [
       "<div>\n",
       "<style scoped>\n",
       "    .dataframe tbody tr th:only-of-type {\n",
       "        vertical-align: middle;\n",
       "    }\n",
       "\n",
       "    .dataframe tbody tr th {\n",
       "        vertical-align: top;\n",
       "    }\n",
       "\n",
       "    .dataframe thead th {\n",
       "        text-align: right;\n",
       "    }\n",
       "</style>\n",
       "<table border=\"1\" class=\"dataframe\">\n",
       "  <thead>\n",
       "    <tr style=\"text-align: right;\">\n",
       "      <th></th>\n",
       "      <th>diabetes</th>\n",
       "    </tr>\n",
       "  </thead>\n",
       "  <tbody>\n",
       "    <tr>\n",
       "      <th>0</th>\n",
       "      <td>0</td>\n",
       "    </tr>\n",
       "    <tr>\n",
       "      <th>1</th>\n",
       "      <td>0</td>\n",
       "    </tr>\n",
       "    <tr>\n",
       "      <th>2</th>\n",
       "      <td>0</td>\n",
       "    </tr>\n",
       "    <tr>\n",
       "      <th>3</th>\n",
       "      <td>0</td>\n",
       "    </tr>\n",
       "    <tr>\n",
       "      <th>4</th>\n",
       "      <td>0</td>\n",
       "    </tr>\n",
       "    <tr>\n",
       "      <th>...</th>\n",
       "      <td>...</td>\n",
       "    </tr>\n",
       "    <tr>\n",
       "      <th>99995</th>\n",
       "      <td>0</td>\n",
       "    </tr>\n",
       "    <tr>\n",
       "      <th>99996</th>\n",
       "      <td>0</td>\n",
       "    </tr>\n",
       "    <tr>\n",
       "      <th>99997</th>\n",
       "      <td>0</td>\n",
       "    </tr>\n",
       "    <tr>\n",
       "      <th>99998</th>\n",
       "      <td>0</td>\n",
       "    </tr>\n",
       "    <tr>\n",
       "      <th>99999</th>\n",
       "      <td>0</td>\n",
       "    </tr>\n",
       "  </tbody>\n",
       "</table>\n",
       "<p>100000 rows × 1 columns</p>\n",
       "</div>"
      ],
      "text/plain": [
       "       diabetes\n",
       "0             0\n",
       "1             0\n",
       "2             0\n",
       "3             0\n",
       "4             0\n",
       "...         ...\n",
       "99995         0\n",
       "99996         0\n",
       "99997         0\n",
       "99998         0\n",
       "99999         0\n",
       "\n",
       "[100000 rows x 1 columns]"
      ]
     },
     "execution_count": 29,
     "metadata": {},
     "output_type": "execute_result"
    }
   ],
   "source": [
    "y_train"
   ]
  },
  {
   "cell_type": "code",
   "execution_count": 31,
   "id": "401558c3-557f-4767-ba0e-b911ae38eaca",
   "metadata": {},
   "outputs": [
    {
     "name": "stdout",
     "output_type": "stream",
     "text": [
      "Selected features: Index(['age', 'hypertension', 'bmi', 'hbA1c_level', 'blood_glucose_level'], dtype='object')\n"
     ]
    }
   ],
   "source": [
    "# Apply SelectKBest with chi2\n",
    "select_k_best = SelectKBest(score_func=chi2, k=5)\n",
    "X_train_k_best = select_k_best.fit_transform(X_train, y_train)\n",
    "\n",
    "print(\"Selected features:\", X_train.columns[select_k_best.get_support()])\n"
   ]
  },
  {
   "cell_type": "markdown",
   "id": "491babeb-4a92-47b2-ae9b-6c8073e395bf",
   "metadata": {},
   "source": [
    "# Result\n",
    "The Resulting variables are: age, hypertension, bmi, hbA1c_level and blood_glucose_level. These variables will be used to model the prediction."
   ]
  },
  {
   "cell_type": "code",
   "execution_count": 34,
   "id": "54ef7624-319d-48a5-84bc-62d712575913",
   "metadata": {},
   "outputs": [],
   "source": [
    "df_to_save = df[['age', 'hypertension', 'bmi', 'hbA1c_level', 'blood_glucose_level', 'diabetes']]\n",
    "df_to_save.to_csv('diabetes_selected_features.csv', index=False)"
   ]
  },
  {
   "cell_type": "code",
   "execution_count": null,
   "id": "ae439680-ad80-4b03-a76e-e4f7135078fa",
   "metadata": {},
   "outputs": [],
   "source": []
  }
 ],
 "metadata": {
  "kernelspec": {
   "display_name": "Python 3 (ipykernel)",
   "language": "python",
   "name": "python3"
  },
  "language_info": {
   "codemirror_mode": {
    "name": "ipython",
    "version": 3
   },
   "file_extension": ".py",
   "mimetype": "text/x-python",
   "name": "python",
   "nbconvert_exporter": "python",
   "pygments_lexer": "ipython3",
   "version": "3.12.9"
  }
 },
 "nbformat": 4,
 "nbformat_minor": 5
}
